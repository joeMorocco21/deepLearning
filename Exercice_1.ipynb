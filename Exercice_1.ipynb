{
 "cells": [
  {
   "cell_type": "markdown",
   "id": "a9577ee0",
   "metadata": {},
   "source": [
    "Exercise n°1 \n",
    ">Créer une fonction linéaire lin_reg1 qui prend en paramètre la liste X avec les poids wk et le biais b\n",
    "\n",
    "> Créer une fonction d’activation \"RELU\"\n",
    "\n",
    "> Construction de deux sorties (linreg_2 et linreg_3 suivie par la fonction d’activation activation)\n",
    "\n",
    "> Sortie de la 1ère couche comme entrées d’une seconde couche (activation_next_layer: sigmoide)"
   ]
  },
  {
   "cell_type": "code",
   "execution_count": 1,
   "id": "c63340ef",
   "metadata": {},
   "outputs": [],
   "source": [
    "import pandas as pd\n",
    "import numpy as np"
   ]
  },
  {
   "cell_type": "code",
   "execution_count": 57,
   "id": "1dd54369",
   "metadata": {},
   "outputs": [],
   "source": [
    "def lin_reg11(X, poids, biais):\n",
    "    y = 0\n",
    "    for x, p in zip(X, poids):\n",
    "        y = y+(x*p)\n",
    "    y = y + biais\n",
    "    return(y)\n",
    "\n",
    "def lin_reg12(X, poids, biais):\n",
    "    y = []\n",
    "    for x, p in zip(X, poids):\n",
    "        y.append(x*p)\n",
    "    output = sum(y) + biais\n",
    "    return(output)"
   ]
  },
  {
   "cell_type": "code",
   "execution_count": 58,
   "id": "eb0706f3",
   "metadata": {},
   "outputs": [
    {
     "data": {
      "text/plain": [
       "(-4.049999999999999, -4.049999999999999, -4.049999999999999)"
      ]
     },
     "execution_count": 58,
     "metadata": {},
     "output_type": "execute_result"
    }
   ],
   "source": [
    "lin_reg2(X, poids, biais), lin_reg3(X, poids, biais)"
   ]
  },
  {
   "cell_type": "code",
   "execution_count": 85,
   "id": "15fff0d9",
   "metadata": {},
   "outputs": [],
   "source": [
    "X = [1, -3.1, -7.2, 2.1]\n",
    "poids = [2.1, 1.2, 0.3, 1.3]\n",
    "biais = -3\n",
    "def lin_reg1(X, poids, biais):\n",
    "    y = [x*p for x, p in zip(X, poids)]\n",
    "    output = sum(y) + biais\n",
    "    return(output)"
   ]
  },
  {
   "cell_type": "code",
   "execution_count": 86,
   "id": "d729eea7",
   "metadata": {},
   "outputs": [],
   "source": [
    "def activation(output):\n",
    "    if output < 0:\n",
    "        output = 0\n",
    "    else:\n",
    "        output = output\n",
    "    return(output)"
   ]
  },
  {
   "cell_type": "code",
   "execution_count": 87,
   "id": "79bf0301",
   "metadata": {},
   "outputs": [
    {
     "data": {
      "text/plain": [
       "0"
      ]
     },
     "execution_count": 87,
     "metadata": {},
     "output_type": "execute_result"
    }
   ],
   "source": [
    "out_1 = activation(lin_reg1(X, poids, biais))\n",
    "out_1"
   ]
  },
  {
   "cell_type": "code",
   "execution_count": 74,
   "id": "100075df",
   "metadata": {},
   "outputs": [],
   "source": [
    "X = [1, -3.1, -7.2, 2.1]\n",
    "poids = [0.1, 1.2, 4.9, 3.1]\n",
    "biais = -5\n",
    "\n",
    "def linreg_2(X, poids, biais):\n",
    "    y = [x*p for x, p in zip(X, poids)]\n",
    "    output = sum(y) + biais\n",
    "    output = activation(output)\n",
    "    return(output)"
   ]
  },
  {
   "cell_type": "code",
   "execution_count": 1,
   "id": "f5fc4f2b",
   "metadata": {},
   "outputs": [
    {
     "ename": "NameError",
     "evalue": "name 'linreg_2' is not defined",
     "output_type": "error",
     "traceback": [
      "\u001b[1;31m---------------------------------------------------------------------------\u001b[0m",
      "\u001b[1;31mNameError\u001b[0m                                 Traceback (most recent call last)",
      "\u001b[1;32m<ipython-input-1-6a7f410200dd>\u001b[0m in \u001b[0;36m<module>\u001b[1;34m\u001b[0m\n\u001b[1;32m----> 1\u001b[1;33m \u001b[0mout_2\u001b[0m \u001b[1;33m=\u001b[0m \u001b[0mlinreg_2\u001b[0m\u001b[1;33m(\u001b[0m\u001b[0mX\u001b[0m\u001b[1;33m,\u001b[0m \u001b[0mpoids\u001b[0m\u001b[1;33m,\u001b[0m \u001b[0mbiais\u001b[0m\u001b[1;33m)\u001b[0m\u001b[1;33m\u001b[0m\u001b[1;33m\u001b[0m\u001b[0m\n\u001b[0m",
      "\u001b[1;31mNameError\u001b[0m: name 'linreg_2' is not defined"
     ]
    }
   ],
   "source": [
    "out_2 = linreg_2(X, poids, biais)"
   ]
  },
  {
   "cell_type": "code",
   "execution_count": 76,
   "id": "8f2b539d",
   "metadata": {},
   "outputs": [],
   "source": [
    "X = [1, -3.1, -7.2, 2.1]\n",
    "poids = [0.4, 2.6, 2.5, 3.8]\n",
    "biais = -8\n",
    "\n",
    "def linreg_3(X, poids, biais):\n",
    "    y = [x*p for x, p in zip(X, poids)]\n",
    "    output = sum(y) + biais\n",
    "    output = activation(output)\n",
    "    return(output)"
   ]
  },
  {
   "cell_type": "code",
   "execution_count": 77,
   "id": "5b5ee0a0",
   "metadata": {},
   "outputs": [],
   "source": [
    "out_3 = linreg_3(X, poids, biais)"
   ]
  },
  {
   "cell_type": "code",
   "execution_count": 82,
   "id": "b04a661b",
   "metadata": {},
   "outputs": [],
   "source": [
    "def activation_next_layer(output):\n",
    "    output = 1/(1 + np.exp(-output))\n",
    "    return(output)"
   ]
  },
  {
   "cell_type": "code",
   "execution_count": 83,
   "id": "df46567b",
   "metadata": {},
   "outputs": [],
   "source": [
    "poids = [1.1, -4.1, 0.7]\n",
    "b = 5.1\n",
    "X = [out_1, out_2, out_3]\n",
    "def linreg_next_layer(X, poids, biais):\n",
    "    y = [x*p for x, p in zip(X, poids)]\n",
    "    output = sum(y) + biais\n",
    "    output = activation_next_layer(output)\n",
    "    return(output)"
   ]
  },
  {
   "cell_type": "code",
   "execution_count": 84,
   "id": "d2946c82",
   "metadata": {},
   "outputs": [
    {
     "data": {
      "text/plain": [
       "0.00901329865284783"
      ]
     },
     "execution_count": 84,
     "metadata": {},
     "output_type": "execute_result"
    }
   ],
   "source": [
    "linreg_next_layer(X, poids, biais)"
   ]
  },
  {
   "cell_type": "code",
   "execution_count": null,
   "id": "ac9e3e01",
   "metadata": {},
   "outputs": [],
   "source": []
  }
 ],
 "metadata": {
  "interpreter": {
   "hash": "a0697a08853843cee7b0067dcaa1e245b3dcd8145de4cf8fef185db7dee63cac"
  },
  "kernelspec": {
   "display_name": "Python 3.8.8 64-bit ('base': conda)",
   "name": "python3"
  },
  "language_info": {
   "codemirror_mode": {
    "name": "ipython",
    "version": 3
   },
   "file_extension": ".py",
   "mimetype": "text/x-python",
   "name": "python",
   "nbconvert_exporter": "python",
   "pygments_lexer": "ipython3",
   "version": "3.8.8"
  }
 },
 "nbformat": 4,
 "nbformat_minor": 5
}
