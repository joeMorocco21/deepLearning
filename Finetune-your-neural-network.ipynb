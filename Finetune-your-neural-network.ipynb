{
 "cells": [
  {
   "cell_type": "markdown",
   "metadata": {},
   "source": [
    "# Finetune your Neural Network\n",
    "\n",
    "**Exercise objectives:**\n",
    "- `Finetune` the model optimizer\n",
    "- `Save` and `Load` a `trained neural network`\n",
    "\n",
    "<hr>\n",
    "\n",
    "Now that you have solid foundations of what Neural Networks, how to design their architecture and how to regularize them, let's take a closer look at the `.compile(loss = ..., metrics = ..., activation = ...)` part.\n",
    "\n",
    "# Data\n",
    "\n",
    "We will use the data from the `Boston Housing dataset`. \n",
    "\n",
    "Our goal is to `predict the values of the houses` (in k USD), and we will measure our models' performances  using the `Mean Absolute Error` metrics"
   ]
  },
  {
   "cell_type": "code",
   "execution_count": 66,
   "metadata": {},
   "outputs": [],
   "source": [
    "import numpy as np\n",
    "import pandas as pd\n",
    "from tensorflow.keras.datasets import boston_housing\n",
    "import matplotlib.pyplot as plt\n",
    "import seaborn as sns\n",
    "%matplotlib inline"
   ]
  },
  {
   "cell_type": "code",
   "execution_count": 67,
   "metadata": {},
   "outputs": [
    {
     "data": {
      "text/plain": [
       "<AxesSubplot:ylabel='Count'>"
      ]
     },
     "execution_count": 67,
     "metadata": {},
     "output_type": "execute_result"
    },
    {
     "data": {
      "image/png": "[encoded data removed]",
      "text/plain": [
       "<Figure size 432x288 with 1 Axes>"
      ]
     },
     "metadata": {
      "needs_background": "light"
     },
     "output_type": "display_data"
    }
   ],
   "source": [
    "(X_train, y_train), (X_test, y_test) = boston_housing.load_data()\n",
    "X_train.shape\n",
    "sns.histplot(y_train)"
   ]
  },
  {
   "cell_type": "code",
   "execution_count": 3,
   "metadata": {},
   "outputs": [
    {
     "name": "stdout",
     "output_type": "stream",
     "text": [
      "<class 'pandas.core.frame.DataFrame'>\n",
      "RangeIndex: 404 entries, 0 to 403\n",
      "Data columns (total 13 columns):\n",
      " #   Column  Non-Null Count  Dtype  \n",
      "---  ------  --------------  -----  \n",
      " 0   0       404 non-null    float64\n",
      " 1   1       404 non-null    float64\n",
      " 2   2       404 non-null    float64\n",
      " 3   3       404 non-null    float64\n",
      " 4   4       404 non-null    float64\n",
      " 5   5       404 non-null    float64\n",
      " 6   6       404 non-null    float64\n",
      " 7   7       404 non-null    float64\n",
      " 8   8       404 non-null    float64\n",
      " 9   9       404 non-null    float64\n",
      " 10  10      404 non-null    float64\n",
      " 11  11      404 non-null    float64\n",
      " 12  12      404 non-null    float64\n",
      "dtypes: float64(13)\n",
      "memory usage: 41.2 KB\n"
     ]
    }
   ],
   "source": [
    "pd.DataFrame(X_train).info()"
   ]
  },
  {
   "cell_type": "code",
   "execution_count": 68,
   "metadata": {},
   "outputs": [
    {
     "data": {
      "text/html": [
       "<div>\n",
       "<style scoped>\n",
       "    .dataframe tbody tr th:only-of-type {\n",
       "        vertical-align: middle;\n",
       "    }\n",
       "\n",
       "    .dataframe tbody tr th {\n",
       "        vertical-align: top;\n",
       "    }\n",
       "\n",
       "    .dataframe thead th {\n",
       "        text-align: right;\n",
       "    }\n",
       "</style>\n",
       "<table border=\"1\" class=\"dataframe\">\n",
       "  <thead>\n",
       "    <tr style=\"text-align: right;\">\n",
       "      <th></th>\n",
       "      <th>0</th>\n",
       "      <th>1</th>\n",
       "      <th>2</th>\n",
       "      <th>3</th>\n",
       "      <th>4</th>\n",
       "      <th>5</th>\n",
       "      <th>6</th>\n",
       "      <th>7</th>\n",
       "      <th>8</th>\n",
       "      <th>9</th>\n",
       "      <th>10</th>\n",
       "      <th>11</th>\n",
       "      <th>12</th>\n",
       "    </tr>\n",
       "  </thead>\n",
       "  <tbody>\n",
       "    <tr>\n",
       "      <th>count</th>\n",
       "      <td>404.000000</td>\n",
       "      <td>404.000000</td>\n",
       "      <td>404.000000</td>\n",
       "      <td>404.000000</td>\n",
       "      <td>404.000000</td>\n",
       "      <td>404.000000</td>\n",
       "      <td>404.000000</td>\n",
       "      <td>404.000000</td>\n",
       "      <td>404.000000</td>\n",
       "      <td>404.000000</td>\n",
       "      <td>404.000000</td>\n",
       "      <td>404.000000</td>\n",
       "      <td>404.000000</td>\n",
       "    </tr>\n",
       "    <tr>\n",
       "      <th>mean</th>\n",
       "      <td>3.745111</td>\n",
       "      <td>11.480198</td>\n",
       "      <td>11.104431</td>\n",
       "      <td>0.061881</td>\n",
       "      <td>0.557356</td>\n",
       "      <td>6.267082</td>\n",
       "      <td>69.010644</td>\n",
       "      <td>3.740271</td>\n",
       "      <td>9.440594</td>\n",
       "      <td>405.898515</td>\n",
       "      <td>18.475990</td>\n",
       "      <td>354.783168</td>\n",
       "      <td>12.740817</td>\n",
       "    </tr>\n",
       "    <tr>\n",
       "      <th>std</th>\n",
       "      <td>9.240734</td>\n",
       "      <td>23.767711</td>\n",
       "      <td>6.811308</td>\n",
       "      <td>0.241238</td>\n",
       "      <td>0.117293</td>\n",
       "      <td>0.709788</td>\n",
       "      <td>27.940665</td>\n",
       "      <td>2.030215</td>\n",
       "      <td>8.698360</td>\n",
       "      <td>166.374543</td>\n",
       "      <td>2.200382</td>\n",
       "      <td>94.111148</td>\n",
       "      <td>7.254545</td>\n",
       "    </tr>\n",
       "    <tr>\n",
       "      <th>min</th>\n",
       "      <td>0.006320</td>\n",
       "      <td>0.000000</td>\n",
       "      <td>0.460000</td>\n",
       "      <td>0.000000</td>\n",
       "      <td>0.385000</td>\n",
       "      <td>3.561000</td>\n",
       "      <td>2.900000</td>\n",
       "      <td>1.129600</td>\n",
       "      <td>1.000000</td>\n",
       "      <td>188.000000</td>\n",
       "      <td>12.600000</td>\n",
       "      <td>0.320000</td>\n",
       "      <td>1.730000</td>\n",
       "    </tr>\n",
       "    <tr>\n",
       "      <th>25%</th>\n",
       "      <td>0.081437</td>\n",
       "      <td>0.000000</td>\n",
       "      <td>5.130000</td>\n",
       "      <td>0.000000</td>\n",
       "      <td>0.453000</td>\n",
       "      <td>5.874750</td>\n",
       "      <td>45.475000</td>\n",
       "      <td>2.077100</td>\n",
       "      <td>4.000000</td>\n",
       "      <td>279.000000</td>\n",
       "      <td>17.225000</td>\n",
       "      <td>374.672500</td>\n",
       "      <td>6.890000</td>\n",
       "    </tr>\n",
       "    <tr>\n",
       "      <th>50%</th>\n",
       "      <td>0.268880</td>\n",
       "      <td>0.000000</td>\n",
       "      <td>9.690000</td>\n",
       "      <td>0.000000</td>\n",
       "      <td>0.538000</td>\n",
       "      <td>6.198500</td>\n",
       "      <td>78.500000</td>\n",
       "      <td>3.142300</td>\n",
       "      <td>5.000000</td>\n",
       "      <td>330.000000</td>\n",
       "      <td>19.100000</td>\n",
       "      <td>391.250000</td>\n",
       "      <td>11.395000</td>\n",
       "    </tr>\n",
       "    <tr>\n",
       "      <th>75%</th>\n",
       "      <td>3.674808</td>\n",
       "      <td>12.500000</td>\n",
       "      <td>18.100000</td>\n",
       "      <td>0.000000</td>\n",
       "      <td>0.631000</td>\n",
       "      <td>6.609000</td>\n",
       "      <td>94.100000</td>\n",
       "      <td>5.118000</td>\n",
       "      <td>24.000000</td>\n",
       "      <td>666.000000</td>\n",
       "      <td>20.200000</td>\n",
       "      <td>396.157500</td>\n",
       "      <td>17.092500</td>\n",
       "    </tr>\n",
       "    <tr>\n",
       "      <th>max</th>\n",
       "      <td>88.976200</td>\n",
       "      <td>100.000000</td>\n",
       "      <td>27.740000</td>\n",
       "      <td>1.000000</td>\n",
       "      <td>0.871000</td>\n",
       "      <td>8.725000</td>\n",
       "      <td>100.000000</td>\n",
       "      <td>10.710300</td>\n",
       "      <td>24.000000</td>\n",
       "      <td>711.000000</td>\n",
       "      <td>22.000000</td>\n",
       "      <td>396.900000</td>\n",
       "      <td>37.970000</td>\n",
       "    </tr>\n",
       "  </tbody>\n",
       "</table>\n",
       "</div>"
      ],
      "text/plain": [
       "               0           1           2           3           4           5   \\\n",
       "count  404.000000  404.000000  404.000000  404.000000  404.000000  404.000000   \n",
       "mean     3.745111   11.480198   11.104431    0.061881    0.557356    6.267082   \n",
       "std      9.240734   23.767711    6.811308    0.241238    0.117293    0.709788   \n",
       "min      0.006320    0.000000    0.460000    0.000000    0.385000    3.561000   \n",
       "25%      0.081437    0.000000    5.130000    0.000000    0.453000    5.874750   \n",
       "50%      0.268880    0.000000    9.690000    0.000000    0.538000    6.198500   \n",
       "75%      3.674808   12.500000   18.100000    0.000000    0.631000    6.609000   \n",
       "max     88.976200  100.000000   27.740000    1.000000    0.871000    8.725000   \n",
       "\n",
       "               6           7           8           9           10          11  \\\n",
       "count  404.000000  404.000000  404.000000  404.000000  404.000000  404.000000   \n",
       "mean    69.010644    3.740271    9.440594  405.898515   18.475990  354.783168   \n",
       "std     27.940665    2.030215    8.698360  166.374543    2.200382   94.111148   \n",
       "min      2.900000    1.129600    1.000000  188.000000   12.600000    0.320000   \n",
       "25%     45.475000    2.077100    4.000000  279.000000   17.225000  374.672500   \n",
       "50%     78.500000    3.142300    5.000000  330.000000   19.100000  391.250000   \n",
       "75%     94.100000    5.118000   24.000000  666.000000   20.200000  396.157500   \n",
       "max    100.000000   10.710300   24.000000  711.000000   22.000000  396.900000   \n",
       "\n",
       "               12  \n",
       "count  404.000000  \n",
       "mean    12.740817  \n",
       "std      7.254545  \n",
       "min      1.730000  \n",
       "25%      6.890000  \n",
       "50%     11.395000  \n",
       "75%     17.092500  \n",
       "max     37.970000  "
      ]
     },
     "execution_count": 68,
     "metadata": {},
     "output_type": "execute_result"
    }
   ],
   "source": [
    "pd.DataFrame(X_train).describe()"
   ]
  },
  {
   "cell_type": "markdown",
   "metadata": {},
   "source": [
    "❓ **Question** ❓ Standardize `X_train` and `X_test` set without data leakage, and replace them keeping similar variable names"
   ]
  },
  {
   "cell_type": "code",
   "execution_count": 69,
   "metadata": {},
   "outputs": [],
   "source": [
    "from sklearn import preprocessing\n",
    "scaler = StandardScaler()"
   ]
  },
  {
   "cell_type": "code",
   "execution_count": 70,
   "metadata": {},
   "outputs": [
    {
     "data": {
      "text/plain": [
       "array([[ 1.55369355, -0.48361547,  1.0283258 , ...,  0.78447637,\n",
       "        -3.48459553,  2.25092074],\n",
       "       [-0.39242675, -0.48361547, -0.16087773, ..., -0.30759583,\n",
       "         0.42733126,  0.47880119],\n",
       "       [-0.39982927, -0.48361547, -0.86940196, ...,  0.78447637,\n",
       "         0.44807713, -0.41415936],\n",
       "       ...,\n",
       "       [-0.20709507, -0.48361547,  1.24588095, ..., -1.71818909,\n",
       "         0.37051949, -1.49344089],\n",
       "       [-0.36698601, -0.48361547, -0.72093526, ..., -0.48960787,\n",
       "         0.39275481, -0.41829982],\n",
       "       [-0.0889679 , -0.48361547,  1.24588095, ..., -1.71818909,\n",
       "        -1.21946544, -0.40449827]])"
      ]
     },
     "execution_count": 70,
     "metadata": {},
     "output_type": "execute_result"
    }
   ],
   "source": [
    "xtr =  preprocessing.scale(X_train)\n",
    "xt = preprocessing.StandardScaler().fit(X_train)\n",
    "xt.transform(X_test)"
   ]
  },
  {
   "cell_type": "markdown",
   "metadata": {},
   "source": [
    "❓ **Question** ❓ To get a sense of a benchmark score you have to beat, what is the mean absolute error on the test set if your dumb prediction corresponds to the mean value of $y$ computed on the train set?"
   ]
  },
  {
   "cell_type": "code",
   "execution_count": 71,
   "metadata": {},
   "outputs": [
    {
     "name": "stdout",
     "output_type": "stream",
     "text": [
      "Average values : 22.395049504950492\n"
     ]
    }
   ],
   "source": [
    "mean_values = y_train.mean(axis=0)\n",
    "print(\"Average values :\",mean_values)"
   ]
  },
  {
   "cell_type": "code",
   "execution_count": 72,
   "metadata": {},
   "outputs": [
    {
     "name": "stdout",
     "output_type": "stream",
     "text": [
      "moyenne d'erreur absolut pour Test Data: 6.533042127742185\n"
     ]
    }
   ],
   "source": [
    "print(\"moyenne d'erreur absolut pour Test Data:\",abs(y_test - mean_values).mean(axis=0))"
   ]
  },
  {
   "cell_type": "markdown",
   "metadata": {},
   "source": [
    "# 1. The model\n",
    "\n",
    "❓ **Question** ❓ Now, write a function `initialize_model` that generates a neural network with 3 layers: \n",
    "- a layer with 10 neurons and the `relu` activation function (choose the appropriate input dimension)\n",
    "- a layer with 7 neurons and the `relu` activation function\n",
    "- an appropriate layer corresponding to the problem at hand"
   ]
  },
  {
   "cell_type": "code",
   "execution_count": 73,
   "metadata": {},
   "outputs": [],
   "source": [
    "from tensorflow.keras import models\n",
    "from tensorflow.keras import layers\n",
    "from tensorflow.keras.layers import Dense\n",
    "import tensorflow as tf\n",
    "from tensorflow import keras\n",
    "from tensorflow.keras.models import Sequential\n",
    "def initialize_model():\n",
    "  model.add(layers.Dense(10, activation='relu',input_shape=(X_train.shape[1],)))\n",
    "  model.add(layers.Dense(7, activation='relu'))\n",
    "  model.add(layers.Dense(1))\n",
    "    \n",
    "  return model\n"
   ]
  },
  {
   "cell_type": "markdown",
   "metadata": {},
   "source": [
    "# 2. The optimizer\n",
    "\n",
    "❓ **Question** ❓ Write a function that :\n",
    "* takes as arguments a model and an optimizer, \n",
    "* `compiles` the model,\n",
    "* and returns the compiled model\n",
    "\n",
    "Please select the `loss function` to be optimized and  the `metrics` on which the model should be evaluated wisely."
   ]
  },
  {
   "cell_type": "code",
   "execution_count": 74,
   "metadata": {},
   "outputs": [],
   "source": [
    "def compile_model(model, optimizer_name):\n",
    "    model = keras.Sequential([layers.Dense(10, activation='relu', input_shape=[len(X_train.keys())]),\n",
    "    layers.Dense(10, activation='relu'),\n",
    "    layers.Dense(1)])\n",
    "    optimizer_name = tf.keras.optimizers.RMSprop(0.001)\n",
    "    model.compile(loss='mse', optimizer=optimizer_name,  metrics=['mae', 'mse'])\n",
    "    return model\n",
    "  "
   ]
  },
  {
   "cell_type": "markdown",
   "metadata": {},
   "source": [
    "❓ **Question** ❓ Initialize the model, compile it with the `adam` optimizer and fit it on the data. \n",
    "- Evaluate your model using an Early Stopping criterion."
   ]
  },
  {
   "cell_type": "code",
   "execution_count": 75,
   "metadata": {},
   "outputs": [
    {
     "name": "stdout",
     "output_type": "stream",
     "text": [
      "Model: \"sequential_28\"\n",
      "_________________________________________________________________\n",
      "Layer (type)                 Output Shape              Param #   \n",
      "=================================================================\n",
      "dense_60 (Dense)             (None, 10)                140       \n",
      "_________________________________________________________________\n",
      "dense_61 (Dense)             (None, 7)                 77        \n",
      "_________________________________________________________________\n",
      "dense_62 (Dense)             (None, 1)                 8         \n",
      "=================================================================\n",
      "Total params: 225\n",
      "Trainable params: 225\n",
      "Non-trainable params: 0\n",
      "_________________________________________________________________\n"
     ]
    }
   ],
   "source": [
    "def initialize_model():\n",
    "  model = models.Sequential()\n",
    "  model.add(layers.Dense(10, activation='relu',input_shape=(X_train.shape[1],)))\n",
    "  model.add(layers.Dense(7, activation='relu'))\n",
    "  # regression - no activation function in the last layer\n",
    "  model.add(layers.Dense(1))\n",
    "  return model\n",
    "model = initialize_model();\n",
    "model.summary()"
   ]
  },
  {
   "cell_type": "code",
   "execution_count": 76,
   "metadata": {},
   "outputs": [],
   "source": [
    "optimizer = tf.keras.optimizers.Adam(learning_rate=0.001)\n",
    "def compile_model(model, optimizer):\n",
    "    '''return a compiled model suited for the cifar tasks'''\n",
    "    model.compile(loss='mse', optimizer=optimizer,metrics=['mae', 'mse'])\n",
    "    return model\n",
    "    # YOUR CODE HERE\n",
    "model = compile_model(model, optimizer);"
   ]
  },
  {
   "cell_type": "code",
   "execution_count": 77,
   "metadata": {},
   "outputs": [
    {
     "name": "stdout",
     "output_type": "stream",
     "text": [
      "Epoch 1/5\n",
      "12/12 [==============================] - 0s 25ms/step - loss: 2586.3958 - mae: 43.5693 - mse: 2586.3958 - val_loss: 1723.8574 - val_mae: 35.3464 - val_mse: 1723.8574\n",
      "Epoch 2/5\n",
      "12/12 [==============================] - 0s 5ms/step - loss: 1520.2488 - mae: 32.5329 - mse: 1520.2488 - val_loss: 871.0017 - val_mae: 24.8135 - val_mse: 871.0017\n",
      "Epoch 3/5\n",
      "12/12 [==============================] - 0s 6ms/step - loss: 735.5662 - mae: 22.2082 - mse: 735.5662 - val_loss: 372.1238 - val_mae: 15.8541 - val_mse: 372.1238\n",
      "Epoch 4/5\n",
      "12/12 [==============================] - 0s 5ms/step - loss: 355.0220 - mae: 14.3424 - mse: 355.0220 - val_loss: 144.5190 - val_mae: 9.2045 - val_mse: 144.5190\n",
      "Epoch 5/5\n",
      "12/12 [==============================] - 0s 5ms/step - loss: 185.7245 - mae: 10.0907 - mse: 185.7245 - val_loss: 78.1790 - val_mae: 7.3259 - val_mse: 78.1790\n"
     ]
    }
   ],
   "source": [
    "from tensorflow.keras.callbacks import EarlyStopping\n",
    "earlystop = EarlyStopping(monitor = 'mae',min_delta = 0,patience = 40, verbose = 1,restore_best_weights = True, mode='auto')\n",
    "history=model.fit(X_train, y_train, epochs=5, validation_split=0.1, validation_data=(X_test, y_test), callbacks=[earlystop])\n",
    "\n",
    "\n"
   ]
  },
  {
   "cell_type": "markdown",
   "metadata": {},
   "source": [
    "❓ **Question** ❓ Re-run the same model on the same data using different optimizers (in a `for` loop). \n",
    "\n",
    "For each optimizer, plot the history and report the corresponding Mean Absolute Error. (see [here](https://www.tensorflow.org/api_docs/python/tf/keras/optimizers)), as well as the time it took to fit your Neural Net."
   ]
  },
  {
   "cell_type": "code",
   "execution_count": null,
   "metadata": {},
   "outputs": [],
   "source": [
    "\n"
   ]
  },
  {
   "cell_type": "code",
   "execution_count": 78,
   "metadata": {},
   "outputs": [],
   "source": [
    "def plot_loss_mae(history):\n",
    "    fig, (ax1, ax2) = plt.subplots(1,2, figsize=(13,4))\n",
    "    ax1.plot(history.history['loss'])\n",
    "    ax1.plot(history.history['val_loss'])\n",
    "    ax1.set_title('Model loss')\n",
    "    ax1.set_ylabel('Loss')\n",
    "    ax1.set_xlabel('Epoch')\n",
    "    ax1.set_ylim(ymin=0, ymax=200)\n",
    "    ax1.legend(['Train', 'Validation'], loc='best')\n",
    "    ax1.grid(axis=\"x\",linewidth=0.5)\n",
    "    ax1.grid(axis=\"y\",linewidth=0.5)    \n",
    "    \n",
    "    ax2.plot(history.history['mae'])\n",
    "    ax2.plot(history.history['val_mae'])\n",
    "    ax2.set_title('MAE')\n",
    "    ax2.set_ylabel('MAE')\n",
    "    ax2.set_xlabel('Epoch')\n",
    "    ax2.set_ylim(ymin=0, ymax=20)\n",
    "    ax2.legend(['Train', 'Validation'], loc='best')\n",
    "    ax2.grid(axis=\"x\",linewidth=0.5)\n",
    "    ax2.grid(axis=\"y\",linewidth=0.5)    \n",
    "\n",
    "    plt.show()\n",
    "\n",
    "def plot_loss_mse(history):\n",
    "    fig, (ax1, ax2) = plt.subplots(1,2, figsize=(13,4))\n",
    "    ax1.plot(history.history['loss'])\n",
    "    ax1.plot(history.history['val_loss'])\n",
    "    ax1.set_title('Model loss')\n",
    "    ax1.set_ylabel('Loss')\n",
    "    ax1.set_xlabel('Epoch')\n",
    "    ax1.set_ylim(ymin=0, ymax=20)\n",
    "    ax1.legend(['Train', 'Validation'], loc='best')\n",
    "    ax1.grid(axis=\"x\",linewidth=0.5)\n",
    "    ax1.grid(axis=\"y\",linewidth=0.5)    \n",
    "\n",
    "    \n",
    "    ax2.plot(history.history['mse'])\n",
    "    ax2.plot(history.history['val_mse'])\n",
    "    ax2.set_title('MSE')\n",
    "    ax2.set_ylabel('MSE')\n",
    "    ax2.set_xlabel('Epoch')\n",
    "    ax2.set_ylim(ymin=0, ymax=200)\n",
    "    ax2.legend(['Train', 'Validation'], loc='best')\n",
    "    ax2.grid(axis=\"x\",linewidth=0.5)\n",
    "    ax2.grid(axis=\"y\",linewidth=0.5)    \n",
    "\n",
    "    plt.show()"
   ]
  },
  {
   "cell_type": "code",
   "execution_count": 79,
   "metadata": {},
   "outputs": [
    {
     "data": {
      "image/png": "[encoded data removed]",
      "text/plain": [
       "<Figure size 936x288 with 2 Axes>"
      ]
     },
     "metadata": {
      "needs_background": "light"
     },
     "output_type": "display_data"
    }
   ],
   "source": [
    "plot_loss_mae(history)"
   ]
  },
  {
   "cell_type": "code",
   "execution_count": 116,
   "metadata": {
    "tags": [
     "delete"
    ]
   },
   "outputs": [
    {
     "name": "stdout",
     "output_type": "stream",
     "text": [
      "4/4 [==============================] - 0s 2ms/step - loss: 37.6579 - mae: 4.4371 - mse: 37.6579\n",
      "MAE with the rmsprop optimizer: 4.4371  reached in 7 s after 96 epochs\n"
     ]
    },
    {
     "data": {
      "image/png": "[encoded data removed]",
      "text/plain": [
       "<Figure size 936x288 with 2 Axes>"
      ]
     },
     "metadata": {
      "needs_background": "light"
     },
     "output_type": "display_data"
    },
    {
     "name": "stdout",
     "output_type": "stream",
     "text": [
      "4/4 [==============================] - 0s 3ms/step - loss: 37.9116 - mae: 4.5713 - mse: 37.9116\n",
      "MAE with the adam optimizer: 4.5713  reached in 17 s after 298 epochs\n"
     ]
    },
    {
     "data": {
      "image/png": "[encoded data removed]",
      "text/plain": [
       "<Figure size 936x288 with 2 Axes>"
      ]
     },
     "metadata": {
      "needs_background": "light"
     },
     "output_type": "display_data"
    },
    {
     "name": "stdout",
     "output_type": "stream",
     "text": [
      "4/4 [==============================] - 0s 2ms/step - loss: 97.3931 - mae: 7.1593 - mse: 97.3931\n",
      "MAE with the adagrad optimizer: 7.1593  reached in 27 s after 500 epochs\n"
     ]
    },
    {
     "data": {
      "image/png": "[encoded data removed]",
      "text/plain": [
       "<Figure size 936x288 with 2 Axes>"
      ]
     },
     "metadata": {
      "needs_background": "light"
     },
     "output_type": "display_data"
    }
   ],
   "source": [
    "import time\n",
    "\n",
    "for optimizer in ['rmsprop', 'adam', 'adagrad']:\n",
    "    start_time = time.time()\n",
    "    model = initialize_model()\n",
    "    model = compile_model(model, optimizer)\n",
    "\n",
    "    es = EarlyStopping(patience=10, restore_best_weights=True)\n",
    "\n",
    "    history = model.fit(X_train, y_train, \n",
    "                      batch_size=16, \n",
    "                      epochs=500, \n",
    "                      validation_split=0.3,\n",
    "                      callbacks=[es], verbose=0)\n",
    "\n",
    "    res = model.evaluate(X_test, y_test)[1]\n",
    "    end_time = time.time()\n",
    "\n",
    "    print(f'MAE with the {optimizer} optimizer: {res:.4f}  reached in {(end_time - start_time):.0f} s after {len(history.epoch)} epochs')\n",
    "    plot_loss_mae(history)"
   ]
  },
  {
   "cell_type": "markdown",
   "metadata": {},
   "source": [
    "❓ **Question** ❓ Are your predictions better than the benchmark model you've evaluated at the beginning of the notebook?"
   ]
  },
  {
   "cell_type": "markdown",
   "metadata": {},
   "source": [
    "❗ **Remark** ❗ \n",
    "- Here, the optimizer is may not be central as the data are in low dimensions and and there are not many samples. However, in practice, you are advised to start with the `adam` optimizer by default which often works best. \n",
    "\n",
    "- Internally, when you call any optimizer with a string, the neural network initializes the hyperparameters the optimizer relies on. Among this hyperparameters, there is quite an important one, the **`learning rate`**. This learning rate corresponds to the intensity of change of the weights at each optimization of the neural network. Different learning rates have different consequences, as shown here : \n",
    "\n",
    "<img src=\"learning_rate.png\" alt=\"Learning rate\" style=\"height:350px;\"/>\n",
    "\n",
    "\n",
    "As the learning rate is initialized with default values when you compile the model optimizer with a string, let's see how to do it differently.\n",
    "\n",
    "\n",
    "❓ **Question** ❓ Instead of initializing the optimizer with a string, we will initialize a real optimizer directly. Look at the documentation of [adam](https://www.tensorflow.org/api_docs/python/tf/keras/optimizers/Adam) and instantiate it with a learning rate of $0.1$ - keep the other values to their default values. Use this optimizer in the `compile_model` function, fit the data and plot the history"
   ]
  },
  {
   "cell_type": "code",
   "execution_count": 81,
   "metadata": {
    "tags": [
     "challengify"
    ]
   },
   "outputs": [],
   "source": [
    "from tensorflow.keras.optimizers import Adam\n",
    "opt = Adam(learning_rate=0.1)\n",
    "model.compile(optimizer=opt, loss='mae', metrics=['accuracy'] )"
   ]
  },
  {
   "cell_type": "code",
   "execution_count": 89,
   "metadata": {},
   "outputs": [
    {
     "name": "stdout",
     "output_type": "stream",
     "text": [
      "Epoch 1/5\n",
      " 1/12 [=>............................] - ETA: 0s - loss: 8.0064 - accuracy: 0.0000e+00WARNING:tensorflow:Early stopping conditioned on metric `mae` which is not available. Available metrics are: loss,accuracy,val_loss,val_accuracy\n",
      "12/12 [==============================] - 0s 10ms/step - loss: 6.2933 - accuracy: 0.0000e+00 - val_loss: 4.1887 - val_accuracy: 0.0000e+00\n",
      "Epoch 2/5\n",
      " 1/12 [=>............................] - ETA: 0s - loss: 6.5554 - accuracy: 0.0000e+00WARNING:tensorflow:Early stopping conditioned on metric `mae` which is not available. Available metrics are: loss,accuracy,val_loss,val_accuracy\n",
      "12/12 [==============================] - 0s 4ms/step - loss: 5.7129 - accuracy: 0.0000e+00 - val_loss: 4.1801 - val_accuracy: 0.0000e+00\n",
      "Epoch 3/5\n",
      " 1/12 [=>............................] - ETA: 0s - loss: 6.1667 - accuracy: 0.0000e+00WARNING:tensorflow:Early stopping conditioned on metric `mae` which is not available. Available metrics are: loss,accuracy,val_loss,val_accuracy\n",
      "12/12 [==============================] - 0s 4ms/step - loss: 6.0210 - accuracy: 0.0000e+00 - val_loss: 4.3537 - val_accuracy: 0.0000e+00\n",
      "Epoch 4/5\n",
      " 1/12 [=>............................] - ETA: 0s - loss: 6.0755 - accuracy: 0.0000e+00WARNING:tensorflow:Early stopping conditioned on metric `mae` which is not available. Available metrics are: loss,accuracy,val_loss,val_accuracy\n",
      "12/12 [==============================] - 0s 6ms/step - loss: 5.5423 - accuracy: 0.0000e+00 - val_loss: 4.3015 - val_accuracy: 0.0000e+00\n",
      "Epoch 5/5\n",
      " 1/12 [=>............................] - ETA: 0s - loss: 4.1284 - accuracy: 0.0000e+00WARNING:tensorflow:Early stopping conditioned on metric `mae` which is not available. Available metrics are: loss,accuracy,val_loss,val_accuracy\n",
      "12/12 [==============================] - 0s 5ms/step - loss: 5.4939 - accuracy: 0.0000e+00 - val_loss: 5.2194 - val_accuracy: 0.0000e+00\n"
     ]
    }
   ],
   "source": [
    "from tensorflow.keras.callbacks import EarlyStopping\n",
    "earlystop = EarlyStopping(monitor = 'mae',min_delta = 0,patience = 40, verbose = 1,restore_best_weights = True, mode='auto')\n",
    "history=model.fit(X_train, y_train, epochs=5, validation_split=0.1, validation_data=(X_test, y_test), callbacks=[earlystop])"
   ]
  },
  {
   "cell_type": "code",
   "execution_count": 83,
   "metadata": {},
   "outputs": [
    {
     "data": {
      "text/html": [
       "<div>\n",
       "<style scoped>\n",
       "    .dataframe tbody tr th:only-of-type {\n",
       "        vertical-align: middle;\n",
       "    }\n",
       "\n",
       "    .dataframe tbody tr th {\n",
       "        vertical-align: top;\n",
       "    }\n",
       "\n",
       "    .dataframe thead th {\n",
       "        text-align: right;\n",
       "    }\n",
       "</style>\n",
       "<table border=\"1\" class=\"dataframe\">\n",
       "  <thead>\n",
       "    <tr style=\"text-align: right;\">\n",
       "      <th></th>\n",
       "      <th>loss</th>\n",
       "      <th>accuracy</th>\n",
       "      <th>val_loss</th>\n",
       "      <th>val_accuracy</th>\n",
       "      <th>epoch</th>\n",
       "    </tr>\n",
       "  </thead>\n",
       "  <tbody>\n",
       "    <tr>\n",
       "      <th>0</th>\n",
       "      <td>21.511541</td>\n",
       "      <td>0.0</td>\n",
       "      <td>9.632960</td>\n",
       "      <td>0.0</td>\n",
       "      <td>0</td>\n",
       "    </tr>\n",
       "    <tr>\n",
       "      <th>1</th>\n",
       "      <td>7.360671</td>\n",
       "      <td>0.0</td>\n",
       "      <td>6.593849</td>\n",
       "      <td>0.0</td>\n",
       "      <td>1</td>\n",
       "    </tr>\n",
       "    <tr>\n",
       "      <th>2</th>\n",
       "      <td>6.384674</td>\n",
       "      <td>0.0</td>\n",
       "      <td>7.541436</td>\n",
       "      <td>0.0</td>\n",
       "      <td>2</td>\n",
       "    </tr>\n",
       "    <tr>\n",
       "      <th>3</th>\n",
       "      <td>6.550906</td>\n",
       "      <td>0.0</td>\n",
       "      <td>7.054766</td>\n",
       "      <td>0.0</td>\n",
       "      <td>3</td>\n",
       "    </tr>\n",
       "    <tr>\n",
       "      <th>4</th>\n",
       "      <td>6.104192</td>\n",
       "      <td>0.0</td>\n",
       "      <td>7.775509</td>\n",
       "      <td>0.0</td>\n",
       "      <td>4</td>\n",
       "    </tr>\n",
       "  </tbody>\n",
       "</table>\n",
       "</div>"
      ],
      "text/plain": [
       "        loss  accuracy  val_loss  val_accuracy  epoch\n",
       "0  21.511541       0.0  9.632960           0.0      0\n",
       "1   7.360671       0.0  6.593849           0.0      1\n",
       "2   6.384674       0.0  7.541436           0.0      2\n",
       "3   6.550906       0.0  7.054766           0.0      3\n",
       "4   6.104192       0.0  7.775509           0.0      4"
      ]
     },
     "execution_count": 83,
     "metadata": {},
     "output_type": "execute_result"
    }
   ],
   "source": [
    "hist = pd.DataFrame(history.history)\n",
    "hist['epoch'] = history.epoch\n",
    "hist.tail()"
   ]
  },
  {
   "cell_type": "markdown",
   "metadata": {},
   "source": [
    "❓ **Question** ❓ Now, reproduce the same plots and results but for different learning rates.\n",
    "\n",
    "*Remark*: There is a chance that the y-axis is too large for you to visualize the results. In that case, rewrite the plot function to plot only the epochs > 10."
   ]
  },
  {
   "cell_type": "code",
   "execution_count": 115,
   "metadata": {},
   "outputs": [
    {
     "data": {
      "image/png": "[encoded data removed]",
      "text/plain": [
       "<Figure size 432x288 with 6 Axes>"
      ]
     },
     "metadata": {
      "needs_background": "light"
     },
     "output_type": "display_data"
    }
   ],
   "source": [
    "from matplotlib import pyplot\n",
    "from tensorflow.keras.optimizers import SGD\n",
    "lrate = [0.0001, 0.001, 0.01, 0.1, 1, 5]\n",
    "def fit_model(X_train, y_train, X_test, y_test, lrate):\n",
    "\t# define model\n",
    "\tmodel = models.Sequential()\n",
    "\tmodel.add(layers.Dense(10, activation='relu',input_dim=2, kernel_initializer='he_uniform'))\n",
    "\tmodel.add(layers.Dense(7, activation='softmax'))\n",
    "\t# regression - no activation function in the last layer\n",
    "\tmodel.add(layers.Dense(1))\n",
    "\t# compile model\n",
    "\topt = Adam(learning_rate=lrate)\n",
    "\tmodel.compile(optimizer=opt, loss='mae', metrics=['accuracy'] )\n",
    "\t# fit model\n",
    "\thistory=model.fit(X_train, y_train, epochs=9, validation_data=(X_test, y_test), verbose=0) \n",
    "\tpyplot.plot(history.history['accuracy'], label='train')\n",
    "\tpyplot.plot(history.history['val_accuracy'], label='test')\n",
    "\tpyplot.title('momentum='+str(learning_rates), pad=-80)\n",
    "\n",
    "for i in range(len(lrate)):\n",
    "\t# determine the plot number\n",
    "\tplot_no = 520 + (i+1)\n",
    "\tpyplot.subplot(plot_no)\n",
    "\t# fit model and plot learning curves for a momentum\n",
    "\tfit_model(trainX, trainy, testX, testy, lrate[i])\n",
    "# show learning curves\n",
    "pyplot.show()"
   ]
  },
  {
   "cell_type": "markdown",
   "metadata": {},
   "source": [
    "# 3. The loss\n",
    "\n",
    "⚠️ It is important to **clearly understand the different between metrics and losses**. \n",
    "\n",
    "* The `loss functions` are computed *during* the training procedure\n",
    "* The `metrics` are computed *after* training your models !\n",
    "* Some metrics can be used as loss functions too... as long as they are differentiable ! (e.g. the *MSE*)\n",
    "\n",
    "❓ **Question** ❓ Run the same neural network, once with the `mae` as the loss, and once with the `mse`.  \n",
    "\n",
    "In both case, compare `mae_train`, `mae_val`, `mse_train`, `mse_val` and conclude."
   ]
  },
  {
   "cell_type": "code",
   "execution_count": 118,
   "metadata": {},
   "outputs": [
    {
     "name": "stdout",
     "output_type": "stream",
     "text": [
      "Model: \"sequential_141\"\n",
      "_________________________________________________________________\n",
      "Layer (type)                 Output Shape              Param #   \n",
      "=================================================================\n",
      "dense_387 (Dense)            (None, 10)                140       \n",
      "_________________________________________________________________\n",
      "dense_388 (Dense)            (None, 7)                 77        \n",
      "_________________________________________________________________\n",
      "dense_389 (Dense)            (None, 1)                 8         \n",
      "=================================================================\n",
      "Total params: 225\n",
      "Trainable params: 225\n",
      "Non-trainable params: 0\n",
      "_________________________________________________________________\n"
     ]
    }
   ],
   "source": [
    "\n",
    "def initialize_model():\n",
    "  model = models.Sequential()\n",
    "  model.add(layers.Dense(10, activation='relu',input_shape=(X_train.shape[1],)))\n",
    "  model.add(layers.Dense(7, activation='relu'))\n",
    "  # regression - no activation function in the last layer\n",
    "  model.add(layers.Dense(1))\n",
    "  model.compile(loss='mae', optimizer=optimizer,metrics=['mae', 'mse'])\n",
    "  return model\n",
    "model = initialize_model();\n",
    "model.summary()"
   ]
  },
  {
   "cell_type": "markdown",
   "metadata": {},
   "source": [
    "❗️ Countrary to first intuition, it can be sometimes better to use the MSE as the loss function in order to get the best MAE possible in the end!\n",
    "\n",
    "<details>\n",
    "    <summary>▶ Why?</summary>\n",
    "\n",
    "Well, even the Deep Learning research community is still trying to answer these types of questions rigorously.\n",
    "    \n",
    "One thing for sure: In Deep Learning, you will never really reach the \"global minimum\" of the true loss function (the one computed using your entire training set as one single \"batch\"). So, in your first model (minimizing the MAE loss), your global MAE minimum has clearly **not** been reached (otherwise you could never beat it). \n",
    "\n",
    "Why? It may well be that the minimization process of the second model has performed better. Maybe because the loss function \"energy map\" is \"smoother\" or more \"convex\" in the case of MSE loss? Or maybe your hyper-parameter are best suited to the MSE than to the MAE loss?\n",
    "\n",
    "</details>"
   ]
  },
  {
   "cell_type": "markdown",
   "metadata": {},
   "source": [
    "### 🧪 Test your model best performance\n",
    "\n",
    "❓ Save your best model performance on the test set at `mae_test` and check it out below"
   ]
  },
  {
   "cell_type": "code",
   "execution_count": 120,
   "metadata": {},
   "outputs": [
    {
     "name": "stdout",
     "output_type": "stream",
     "text": [
      "Epoch 1/5\n",
      "12/12 [==============================] - 1s 42ms/step - loss: 22.4910 - mae: 22.4910 - mse: 595.1083 - val_loss: 21.5140 - val_mae: 21.5140 - val_mse: 505.5318\n",
      "Epoch 2/5\n",
      "12/12 [==============================] - 0s 6ms/step - loss: 22.4871 - mae: 22.4871 - mse: 594.9352 - val_loss: 21.5112 - val_mae: 21.5112 - val_mse: 505.4104\n",
      "Epoch 3/5\n",
      "12/12 [==============================] - 0s 6ms/step - loss: 22.4846 - mae: 22.4846 - mse: 594.8217 - val_loss: 21.5090 - val_mae: 21.5090 - val_mse: 505.3167\n",
      "Epoch 4/5\n",
      "12/12 [==============================] - 0s 7ms/step - loss: 22.4826 - mae: 22.4826 - mse: 594.7300 - val_loss: 21.5072 - val_mae: 21.5072 - val_mse: 505.2374\n",
      "Epoch 5/5\n",
      "12/12 [==============================] - 0s 7ms/step - loss: 22.4809 - mae: 22.4809 - mse: 594.6530 - val_loss: 21.5055 - val_mae: 21.5055 - val_mse: 505.1674\n"
     ]
    }
   ],
   "source": [
    "\n",
    "# YOUR CODE HERE\n",
    "earlystop = EarlyStopping(monitor = 'mae',min_delta = 0,patience = 40, verbose = 1,restore_best_weights = True, mode='auto')\n",
    "history=model.fit(X_train, y_train, epochs=5, validation_split=0.1, validation_data=(X_test, y_test), callbacks=[earlystop])\n",
    "hist = pd.DataFrame(history.history)\n",
    "hist['epoch'] = history.epoch\n",
    "hist.tail()\n",
    "model.save('ft.h5')"
   ]
  },
  {
   "cell_type": "markdown",
   "metadata": {},
   "source": [
    "# 4 : Save and load a model\n",
    "\n",
    "❓ **Question** ❓  Save your model using `.save_model(model, 'name_of_my_model')` method that you can find [here](https://www.tensorflow.org/api_docs/python/tf/keras/models/save_model).."
   ]
  },
  {
   "cell_type": "markdown",
   "metadata": {},
   "source": [
    "❓ **Question** ❓ Now, in a variable that you will call `loaded_model`, load the model you just saved thanks to `.load_model('name_of_your_model')` [(documentation here)](https://www.tensorflow.org/api_docs/python/tf/keras/models/load_model), and evaluate it on the test data to check that it gives the same result as before."
   ]
  },
  {
   "cell_type": "code",
   "execution_count": 122,
   "metadata": {
    "tags": [
     "challengify"
    ]
   },
   "outputs": [
    {
     "name": "stdout",
     "output_type": "stream",
     "text": [
      "Test Loss : 23.0644\n",
      "Test Accuracy : 23.0644\n"
     ]
    }
   ],
   "source": [
    "# YOUR CODE\n",
    "from tensorflow.keras.models import load_model\n",
    "model = load_model('ft.h5')\n",
    "score = model.evaluate(X_test,y_test,verbose=0)\n",
    "print('Test Loss : {:.4f}'.format(score[0]))\n",
    "print('Test Accuracy : {:.4f}'.format(score[1]))"
   ]
  },
  {
   "cell_type": "markdown",
   "metadata": {},
   "source": [
    "## (Optional) `Exponential Decay` for the Optimizer's Learning Rate\n",
    "\n",
    "The next question is not essential and can be skipped as many algorithms can be run without such optimization. \n",
    "\n",
    "Instead of keeping a fixed learning rate, you can change it from one iteration to the other, with the intuition that at first, you need large learning rates, and as the neural network converges and get closer to the minimum loss value, you can decrease the value of the learning rate. This is called a **`scheduler`**. \n",
    "\n",
    "❓ **Question** ❓ Use the [Exponential Decay Scheduler](https://www.tensorflow.org/api_docs/python/tf/keras/optimizers/schedules/ExponentialDecay) in the `adam` optimizer and run it on the previous data. Start with the following:\n",
    "\n",
    "```python\n",
    "initial_learning_rate = 0.001 # start with default ADAM value\n",
    "\n",
    "lr_schedule = ExponentialDecay(\n",
    "    # Every 5000 iterations, multiply the learning rate by 0.7\n",
    "    initial_learning_rate, decay_steps=5000, decay_rate=0.7,\n",
    ")\n",
    "```"
   ]
  },
  {
   "cell_type": "code",
   "execution_count": 123,
   "metadata": {},
   "outputs": [],
   "source": [
    "from tensorflow.keras.callbacks import LearningRateScheduler\n",
    "import math\n",
    "# YOUR CODE HERE\n",
    "initial_lr = 0.001\n",
    "initial_learning_rate = 0.01\n",
    "def lr_exp_decay(epoch, lr):\n",
    "    k = 0.1\n",
    "    return initial_learning_rate * math.exp(-k*epoch)"
   ]
  },
  {
   "cell_type": "code",
   "execution_count": 125,
   "metadata": {},
   "outputs": [
    {
     "name": "stdout",
     "output_type": "stream",
     "text": [
      "\n",
      "Epoch 00001: LearningRateScheduler reducing learning rate to 0.01.\n",
      "Epoch 1/50\n",
      "11/11 [==============================] - 0s 6ms/step - loss: 21.9670 - mean_absolute_error: 21.9670 - mean_squared_error: 566.7081 - val_loss: 23.5301 - val_mean_absolute_error: 23.5301 - val_mean_squared_error: 638.1872\n",
      "\n",
      "Epoch 00002: LearningRateScheduler reducing learning rate to 0.009048374180359595.\n",
      "Epoch 2/50\n",
      "11/11 [==============================] - 0s 5ms/step - loss: 21.9651 - mean_absolute_error: 21.9651 - mean_squared_error: 566.6224 - val_loss: 23.5283 - val_mean_absolute_error: 23.5283 - val_mean_squared_error: 638.1003\n",
      "\n",
      "Epoch 00003: LearningRateScheduler reducing learning rate to 0.008187307530779819.\n",
      "Epoch 3/50\n",
      "11/11 [==============================] - 0s 4ms/step - loss: 21.9633 - mean_absolute_error: 21.9633 - mean_squared_error: 566.5442 - val_loss: 23.5266 - val_mean_absolute_error: 23.5266 - val_mean_squared_error: 638.0218\n",
      "\n",
      "Epoch 00004: LearningRateScheduler reducing learning rate to 0.007408182206817179.\n",
      "Epoch 4/50\n",
      "11/11 [==============================] - 0s 5ms/step - loss: 21.9617 - mean_absolute_error: 21.9617 - mean_squared_error: 566.4734 - val_loss: 23.5251 - val_mean_absolute_error: 23.5251 - val_mean_squared_error: 637.9509\n",
      "\n",
      "Epoch 00005: LearningRateScheduler reducing learning rate to 0.006703200460356393.\n",
      "Epoch 5/50\n",
      "11/11 [==============================] - 0s 5ms/step - loss: 21.9603 - mean_absolute_error: 21.9603 - mean_squared_error: 566.4100 - val_loss: 23.5237 - val_mean_absolute_error: 23.5237 - val_mean_squared_error: 637.8869\n",
      "\n",
      "Epoch 00006: LearningRateScheduler reducing learning rate to 0.006065306597126334.\n",
      "Epoch 6/50\n",
      "11/11 [==============================] - 0s 5ms/step - loss: 21.9590 - mean_absolute_error: 21.9590 - mean_squared_error: 566.3522 - val_loss: 23.5225 - val_mean_absolute_error: 23.5225 - val_mean_squared_error: 637.8291\n",
      "\n",
      "Epoch 00007: LearningRateScheduler reducing learning rate to 0.005488116360940264.\n",
      "Epoch 7/50\n",
      "11/11 [==============================] - 0s 5ms/step - loss: 21.9578 - mean_absolute_error: 21.9578 - mean_squared_error: 566.3007 - val_loss: 23.5214 - val_mean_absolute_error: 23.5214 - val_mean_squared_error: 637.7769\n",
      "\n",
      "Epoch 00008: LearningRateScheduler reducing learning rate to 0.004965853037914095.\n",
      "Epoch 8/50\n",
      "11/11 [==============================] - 0s 6ms/step - loss: 21.9567 - mean_absolute_error: 21.9567 - mean_squared_error: 566.2539 - val_loss: 23.5204 - val_mean_absolute_error: 23.5204 - val_mean_squared_error: 637.7297\n",
      "\n",
      "Epoch 00009: LearningRateScheduler reducing learning rate to 0.004493289641172216.\n",
      "Epoch 9/50\n",
      "11/11 [==============================] - 0s 6ms/step - loss: 21.9558 - mean_absolute_error: 21.9558 - mean_squared_error: 566.2119 - val_loss: 23.5195 - val_mean_absolute_error: 23.5195 - val_mean_squared_error: 637.6871\n",
      "\n",
      "Epoch 00010: LearningRateScheduler reducing learning rate to 0.004065696597405992.\n",
      "Epoch 10/50\n",
      "11/11 [==============================] - 0s 6ms/step - loss: 21.9549 - mean_absolute_error: 21.9549 - mean_squared_error: 566.1738 - val_loss: 23.5187 - val_mean_absolute_error: 23.5187 - val_mean_squared_error: 637.6487\n",
      "\n",
      "Epoch 00011: LearningRateScheduler reducing learning rate to 0.0036787944117144234.\n",
      "Epoch 11/50\n",
      "11/11 [==============================] - 0s 7ms/step - loss: 21.9541 - mean_absolute_error: 21.9541 - mean_squared_error: 566.1389 - val_loss: 23.5179 - val_mean_absolute_error: 23.5179 - val_mean_squared_error: 637.6140\n",
      "\n",
      "Epoch 00012: LearningRateScheduler reducing learning rate to 0.003328710836980796.\n",
      "Epoch 12/50\n",
      "11/11 [==============================] - 0s 5ms/step - loss: 21.9534 - mean_absolute_error: 21.9534 - mean_squared_error: 566.1081 - val_loss: 23.5173 - val_mean_absolute_error: 23.5173 - val_mean_squared_error: 637.5826\n",
      "\n",
      "Epoch 00013: LearningRateScheduler reducing learning rate to 0.0030119421191220205.\n",
      "Epoch 13/50\n",
      "11/11 [==============================] - 0s 5ms/step - loss: 21.9527 - mean_absolute_error: 21.9527 - mean_squared_error: 566.0803 - val_loss: 23.5166 - val_mean_absolute_error: 23.5166 - val_mean_squared_error: 637.5543\n",
      "\n",
      "Epoch 00014: LearningRateScheduler reducing learning rate to 0.002725317930340126.\n",
      "Epoch 14/50\n",
      "11/11 [==============================] - 0s 5ms/step - loss: 21.9522 - mean_absolute_error: 21.9522 - mean_squared_error: 566.0544 - val_loss: 23.5161 - val_mean_absolute_error: 23.5161 - val_mean_squared_error: 637.5286\n",
      "\n",
      "Epoch 00015: LearningRateScheduler reducing learning rate to 0.0024659696394160645.\n",
      "Epoch 15/50\n",
      "11/11 [==============================] - 0s 6ms/step - loss: 21.9516 - mean_absolute_error: 21.9516 - mean_squared_error: 566.0317 - val_loss: 23.5156 - val_mean_absolute_error: 23.5156 - val_mean_squared_error: 637.5056\n",
      "\n",
      "Epoch 00016: LearningRateScheduler reducing learning rate to 0.0022313016014842983.\n",
      "Epoch 16/50\n",
      "11/11 [==============================] - 0s 5ms/step - loss: 21.9512 - mean_absolute_error: 21.9512 - mean_squared_error: 566.0110 - val_loss: 23.5152 - val_mean_absolute_error: 23.5152 - val_mean_squared_error: 637.4847\n",
      "\n",
      "Epoch 00017: LearningRateScheduler reducing learning rate to 0.002018965179946554.\n",
      "Epoch 17/50\n",
      "11/11 [==============================] - 0s 7ms/step - loss: 21.9508 - mean_absolute_error: 21.9508 - mean_squared_error: 565.9922 - val_loss: 23.5148 - val_mean_absolute_error: 23.5148 - val_mean_squared_error: 637.4659\n",
      "\n",
      "Epoch 00018: LearningRateScheduler reducing learning rate to 0.001826835240527346.\n",
      "Epoch 18/50\n",
      "11/11 [==============================] - 0s 5ms/step - loss: 21.9504 - mean_absolute_error: 21.9504 - mean_squared_error: 565.9754 - val_loss: 23.5144 - val_mean_absolute_error: 23.5144 - val_mean_squared_error: 637.4489\n",
      "\n",
      "Epoch 00019: LearningRateScheduler reducing learning rate to 0.0016529888822158654.\n",
      "Epoch 19/50\n",
      "11/11 [==============================] - 0s 5ms/step - loss: 21.9500 - mean_absolute_error: 21.9500 - mean_squared_error: 565.9600 - val_loss: 23.5141 - val_mean_absolute_error: 23.5141 - val_mean_squared_error: 637.4335\n",
      "\n",
      "Epoch 00020: LearningRateScheduler reducing learning rate to 0.0014956861922263505.\n",
      "Epoch 20/50\n",
      "11/11 [==============================] - 0s 5ms/step - loss: 21.9497 - mean_absolute_error: 21.9497 - mean_squared_error: 565.9465 - val_loss: 23.5138 - val_mean_absolute_error: 23.5138 - val_mean_squared_error: 637.4196\n",
      "\n",
      "Epoch 00021: LearningRateScheduler reducing learning rate to 0.0013533528323661271.\n",
      "Epoch 21/50\n",
      "11/11 [==============================] - 0s 5ms/step - loss: 21.9494 - mean_absolute_error: 21.9494 - mean_squared_error: 565.9339 - val_loss: 23.5135 - val_mean_absolute_error: 23.5135 - val_mean_squared_error: 637.4070\n",
      "\n",
      "Epoch 00022: LearningRateScheduler reducing learning rate to 0.001224564282529819.\n",
      "Epoch 22/50\n",
      "11/11 [==============================] - 0s 6ms/step - loss: 21.9492 - mean_absolute_error: 21.9492 - mean_squared_error: 565.9227 - val_loss: 23.5133 - val_mean_absolute_error: 23.5133 - val_mean_squared_error: 637.3956\n",
      "\n",
      "Epoch 00023: LearningRateScheduler reducing learning rate to 0.0011080315836233387.\n",
      "Epoch 23/50\n",
      "11/11 [==============================] - 0s 6ms/step - loss: 21.9489 - mean_absolute_error: 21.9489 - mean_squared_error: 565.9125 - val_loss: 23.5131 - val_mean_absolute_error: 23.5131 - val_mean_squared_error: 637.3854\n",
      "\n",
      "Epoch 00024: LearningRateScheduler reducing learning rate to 0.001002588437228037.\n",
      "Epoch 24/50\n",
      "11/11 [==============================] - 0s 5ms/step - loss: 21.9487 - mean_absolute_error: 21.9487 - mean_squared_error: 565.9033 - val_loss: 23.5129 - val_mean_absolute_error: 23.5129 - val_mean_squared_error: 637.3762\n",
      "\n",
      "Epoch 00025: LearningRateScheduler reducing learning rate to 0.0009071795328941247.\n",
      "Epoch 25/50\n",
      "11/11 [==============================] - 0s 5ms/step - loss: 21.9485 - mean_absolute_error: 21.9485 - mean_squared_error: 565.8951 - val_loss: 23.5127 - val_mean_absolute_error: 23.5127 - val_mean_squared_error: 637.3678\n",
      "\n",
      "Epoch 00026: LearningRateScheduler reducing learning rate to 0.0008208499862389881.\n",
      "Epoch 26/50\n",
      "11/11 [==============================] - 0s 5ms/step - loss: 21.9484 - mean_absolute_error: 21.9484 - mean_squared_error: 565.8876 - val_loss: 23.5125 - val_mean_absolute_error: 23.5125 - val_mean_squared_error: 637.3603\n",
      "\n",
      "Epoch 00027: LearningRateScheduler reducing learning rate to 0.0007427357821433388.\n",
      "Epoch 27/50\n",
      "11/11 [==============================] - 0s 5ms/step - loss: 21.9482 - mean_absolute_error: 21.9482 - mean_squared_error: 565.8808 - val_loss: 23.5124 - val_mean_absolute_error: 23.5124 - val_mean_squared_error: 637.3535\n",
      "\n",
      "Epoch 00028: LearningRateScheduler reducing learning rate to 0.0006720551273974976.\n",
      "Epoch 28/50\n",
      "11/11 [==============================] - 0s 5ms/step - loss: 21.9481 - mean_absolute_error: 21.9481 - mean_squared_error: 565.8747 - val_loss: 23.5122 - val_mean_absolute_error: 23.5122 - val_mean_squared_error: 637.3473\n",
      "\n",
      "Epoch 00029: LearningRateScheduler reducing learning rate to 0.0006081006262521795.\n",
      "Epoch 29/50\n",
      "11/11 [==============================] - 0s 6ms/step - loss: 21.9479 - mean_absolute_error: 21.9479 - mean_squared_error: 565.8692 - val_loss: 23.5121 - val_mean_absolute_error: 23.5121 - val_mean_squared_error: 637.3418\n",
      "\n",
      "Epoch 00030: LearningRateScheduler reducing learning rate to 0.0005502322005640721.\n",
      "Epoch 30/50\n",
      "11/11 [==============================] - 0s 6ms/step - loss: 21.9478 - mean_absolute_error: 21.9478 - mean_squared_error: 565.8641 - val_loss: 23.5120 - val_mean_absolute_error: 23.5120 - val_mean_squared_error: 637.3367\n",
      "\n",
      "Epoch 00031: LearningRateScheduler reducing learning rate to 0.0004978706836786395.\n",
      "Epoch 31/50\n",
      "11/11 [==============================] - 0s 4ms/step - loss: 21.9477 - mean_absolute_error: 21.9477 - mean_squared_error: 565.8597 - val_loss: 23.5119 - val_mean_absolute_error: 23.5119 - val_mean_squared_error: 637.3322\n",
      "\n",
      "Epoch 00032: LearningRateScheduler reducing learning rate to 0.000450492023935578.\n",
      "Epoch 32/50\n",
      "11/11 [==============================] - 0s 5ms/step - loss: 21.9476 - mean_absolute_error: 21.9476 - mean_squared_error: 565.8557 - val_loss: 23.5118 - val_mean_absolute_error: 23.5118 - val_mean_squared_error: 637.3281\n",
      "\n",
      "Epoch 00033: LearningRateScheduler reducing learning rate to 0.0004076220397836621.\n",
      "Epoch 33/50\n",
      "11/11 [==============================] - 0s 4ms/step - loss: 21.9476 - mean_absolute_error: 21.9476 - mean_squared_error: 565.8519 - val_loss: 23.5118 - val_mean_absolute_error: 23.5118 - val_mean_squared_error: 637.3243\n",
      "\n",
      "Epoch 00034: LearningRateScheduler reducing learning rate to 0.00036883167401239995.\n",
      "Epoch 34/50\n",
      "11/11 [==============================] - 0s 4ms/step - loss: 21.9475 - mean_absolute_error: 21.9475 - mean_squared_error: 565.8487 - val_loss: 23.5117 - val_mean_absolute_error: 23.5117 - val_mean_squared_error: 637.3210\n",
      "\n",
      "Epoch 00035: LearningRateScheduler reducing learning rate to 0.0003337326996032607.\n",
      "Epoch 35/50\n",
      "11/11 [==============================] - 0s 5ms/step - loss: 21.9474 - mean_absolute_error: 21.9474 - mean_squared_error: 565.8456 - val_loss: 23.5116 - val_mean_absolute_error: 23.5116 - val_mean_squared_error: 637.3180\n",
      "\n",
      "Epoch 00036: LearningRateScheduler reducing learning rate to 0.00030197383422318503.\n",
      "Epoch 36/50\n",
      "11/11 [==============================] - 0s 5ms/step - loss: 21.9473 - mean_absolute_error: 21.9473 - mean_squared_error: 565.8430 - val_loss: 23.5116 - val_mean_absolute_error: 23.5116 - val_mean_squared_error: 637.3153\n",
      "\n",
      "Epoch 00037: LearningRateScheduler reducing learning rate to 0.0002732372244729256.\n",
      "Epoch 37/50\n",
      "11/11 [==============================] - 0s 5ms/step - loss: 21.9473 - mean_absolute_error: 21.9473 - mean_squared_error: 565.8405 - val_loss: 23.5115 - val_mean_absolute_error: 23.5115 - val_mean_squared_error: 637.3129\n",
      "\n",
      "Epoch 00038: LearningRateScheduler reducing learning rate to 0.00024723526470339386.\n",
      "Epoch 38/50\n",
      "11/11 [==============================] - 0s 5ms/step - loss: 21.9472 - mean_absolute_error: 21.9472 - mean_squared_error: 565.8383 - val_loss: 23.5115 - val_mean_absolute_error: 23.5115 - val_mean_squared_error: 637.3106\n",
      "\n",
      "Epoch 00039: LearningRateScheduler reducing learning rate to 0.00022370771856165591.\n",
      "Epoch 39/50\n",
      "11/11 [==============================] - 0s 6ms/step - loss: 21.9472 - mean_absolute_error: 21.9472 - mean_squared_error: 565.8363 - val_loss: 23.5114 - val_mean_absolute_error: 23.5114 - val_mean_squared_error: 637.3085\n",
      "\n",
      "Epoch 00040: LearningRateScheduler reducing learning rate to 0.0002024191144580438.\n",
      "Epoch 40/50\n",
      "11/11 [==============================] - 0s 4ms/step - loss: 21.9472 - mean_absolute_error: 21.9472 - mean_squared_error: 565.8345 - val_loss: 23.5114 - val_mean_absolute_error: 23.5114 - val_mean_squared_error: 637.3068\n",
      "\n",
      "Epoch 00041: LearningRateScheduler reducing learning rate to 0.00018315638888734178.\n",
      "Epoch 41/50\n",
      "11/11 [==============================] - 0s 6ms/step - loss: 21.9471 - mean_absolute_error: 21.9471 - mean_squared_error: 565.8329 - val_loss: 23.5114 - val_mean_absolute_error: 23.5114 - val_mean_squared_error: 637.3052\n",
      "\n",
      "Epoch 00042: LearningRateScheduler reducing learning rate to 0.00016572675401761236.\n",
      "Epoch 42/50\n",
      "11/11 [==============================] - 0s 5ms/step - loss: 21.9471 - mean_absolute_error: 21.9471 - mean_squared_error: 565.8314 - val_loss: 23.5113 - val_mean_absolute_error: 23.5113 - val_mean_squared_error: 637.3036\n",
      "\n",
      "Epoch 00043: LearningRateScheduler reducing learning rate to 0.00014995576820477704.\n",
      "Epoch 43/50\n",
      "11/11 [==============================] - 0s 4ms/step - loss: 21.9471 - mean_absolute_error: 21.9471 - mean_squared_error: 565.8301 - val_loss: 23.5113 - val_mean_absolute_error: 23.5113 - val_mean_squared_error: 637.3023\n",
      "\n",
      "Epoch 00044: LearningRateScheduler reducing learning rate to 0.00013568559012200934.\n",
      "Epoch 44/50\n",
      "11/11 [==============================] - 0s 4ms/step - loss: 21.9470 - mean_absolute_error: 21.9470 - mean_squared_error: 565.8289 - val_loss: 23.5113 - val_mean_absolute_error: 23.5113 - val_mean_squared_error: 637.3011\n",
      "\n",
      "Epoch 00045: LearningRateScheduler reducing learning rate to 0.00012277339903068437.\n",
      "Epoch 45/50\n",
      "11/11 [==============================] - 0s 5ms/step - loss: 21.9470 - mean_absolute_error: 21.9470 - mean_squared_error: 565.8278 - val_loss: 23.5112 - val_mean_absolute_error: 23.5112 - val_mean_squared_error: 637.3000\n",
      "\n",
      "Epoch 00046: LearningRateScheduler reducing learning rate to 0.00011108996538242307.\n",
      "Epoch 46/50\n",
      "11/11 [==============================] - 0s 4ms/step - loss: 21.9470 - mean_absolute_error: 21.9470 - mean_squared_error: 565.8268 - val_loss: 23.5112 - val_mean_absolute_error: 23.5112 - val_mean_squared_error: 637.2991\n",
      "\n",
      "Epoch 00047: LearningRateScheduler reducing learning rate to 0.00010051835744633576.\n",
      "Epoch 47/50\n",
      "11/11 [==============================] - 0s 5ms/step - loss: 21.9470 - mean_absolute_error: 21.9470 - mean_squared_error: 565.8259 - val_loss: 23.5112 - val_mean_absolute_error: 23.5112 - val_mean_squared_error: 637.2982\n",
      "\n",
      "Epoch 00048: LearningRateScheduler reducing learning rate to 9.095277101695816e-05.\n",
      "Epoch 48/50\n",
      "11/11 [==============================] - 0s 5ms/step - loss: 21.9469 - mean_absolute_error: 21.9469 - mean_squared_error: 565.8251 - val_loss: 23.5112 - val_mean_absolute_error: 23.5112 - val_mean_squared_error: 637.2974\n",
      "\n",
      "Epoch 00049: LearningRateScheduler reducing learning rate to 8.229747049020023e-05.\n",
      "Epoch 49/50\n",
      "11/11 [==============================] - 0s 5ms/step - loss: 21.9469 - mean_absolute_error: 21.9469 - mean_squared_error: 565.8245 - val_loss: 23.5112 - val_mean_absolute_error: 23.5112 - val_mean_squared_error: 637.2966\n",
      "\n",
      "Epoch 00050: LearningRateScheduler reducing learning rate to 7.446583070924338e-05.\n",
      "Epoch 50/50\n",
      "11/11 [==============================] - 0s 4ms/step - loss: 21.9469 - mean_absolute_error: 21.9469 - mean_squared_error: 565.8239 - val_loss: 23.5112 - val_mean_absolute_error: 23.5112 - val_mean_squared_error: 637.2960\n"
     ]
    }
   ],
   "source": [
    "history_exp_decay = model.fit(\n",
    "    X_train, \n",
    "    y_train,\n",
    "    epochs=50, \n",
    "    validation_split=0.2,validation_data=(X_test, y_test),\n",
    "    callbacks=[LearningRateScheduler(lr_exp_decay, verbose=1)],)"
   ]
  }
 ],
 "metadata": {
  "kernelspec": {
   "display_name": "Python 3",
   "language": "python",
   "name": "python3"
  },
  "language_info": {
   "codemirror_mode": {
    "name": "ipython",
    "version": 3
   },
   "file_extension": ".py",
   "mimetype": "text/x-python",
   "name": "python",
   "nbconvert_exporter": "python",
   "pygments_lexer": "ipython3",
   "version": "3.8.8"
  }
 },
 "nbformat": 4,
 "nbformat_minor": 2
}
